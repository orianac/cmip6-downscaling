{
 "cells": [
  {
   "cell_type": "markdown",
   "metadata": {},
   "source": [
    "<img width=\"50\" src=\"https://carbonplan-assets.s3.amazonaws.com/monogram/dark-small.png\" style=\"margin-left:0px;margin-top:20px\"/>\n",
    "\n",
    "# Terraclimate downscaling\n",
    "\n",
    "_by Oriana Chegwidden (CarbonPlan), December 15, 2020_\n",
    "\n",
    "This notebook evaluates the downscaling of CMIP6 variables against the obs\n",
    "Terraclimate dataset.\n"
   ]
  },
  {
   "cell_type": "code",
   "execution_count": null,
   "metadata": {},
   "outputs": [],
   "source": [
    "%load_ext autoreload\n",
    "%autoreload 2\n",
    "\n",
    "from cmip6_downscaling.analysis import load, metrics, plot\n",
    "import dask\n",
    "import os\n",
    "import matplotlib.pyplot as plt"
   ]
  },
  {
   "cell_type": "code",
   "execution_count": null,
   "metadata": {},
   "outputs": [],
   "source": [
    "from dask_gateway import Gateway\n",
    "\n",
    "gateway = Gateway()\n",
    "options = gateway.cluster_options()\n",
    "options.worker_cores = 2\n",
    "options.worker_memory = 24\n",
    "cluster = gateway.new_cluster(cluster_options=options)\n",
    "cluster.adapt(minimum=1, maximum=10)\n",
    "cluster"
   ]
  },
  {
   "cell_type": "code",
   "execution_count": null,
   "metadata": {},
   "outputs": [],
   "source": [
    "client = cluster.get_client()\n",
    "client"
   ]
  },
  {
   "cell_type": "code",
   "execution_count": null,
   "metadata": {},
   "outputs": [],
   "source": [
    "# load obs data\n",
    "obs = load.load_obs()\n",
    "# load cmip data\n",
    "gcm_bias_corrected = True\n",
    "gcm_name = \"CanESM5\"\n",
    "gcm_scenario = \"historical\"\n",
    "gcm_ensemble_member = \"r10i1p1f1\"\n",
    "\n",
    "gcm = load.load_cmip(\n",
    "    model=gcm_name,\n",
    "    scenario=gcm_scenario,\n",
    "    member=gcm_ensemble_member,\n",
    "    bias_corrected=gcm_bias_corrected,\n",
    ")\n",
    "# we only really have a few variables that we can compare across\n",
    "# though we can compare vapor pressure by doing a combo of rh and pressure\n",
    "if gcm_bias_corrected:\n",
    "    variables_to_plot = [\n",
    "        \"ppt\",\n",
    "        \"rh\",\n",
    "        \"tmax\",\n",
    "        \"tmin\",\n",
    "        \"srad\",\n",
    "        \"pdsi\",\n",
    "        \"vap\",\n",
    "        \"pet\",\n",
    "    ]\n",
    "\n",
    "else:\n",
    "    variables_to_plot = [\"ppt\", \"rh\", \"tmax\", \"tmin\", \"srad\"]\n",
    "\n",
    "# calculate a metric from existing ones\n",
    "# make a plot comparing cmip and obs"
   ]
  },
  {
   "cell_type": "markdown",
   "metadata": {},
   "source": [
    "Define some periods over which we'll conduct our analyses.\n"
   ]
  },
  {
   "cell_type": "code",
   "execution_count": null,
   "metadata": {},
   "outputs": [],
   "source": [
    "time_slice_dict = {\n",
    "    \"before calibration\": slice(\"1955\", \"1969\"),\n",
    "    \"calibration\": slice(\"1970\", \"1999\"),\n",
    "    \"after calibration\": slice(\"2000\", \"2014\"),\n",
    "}"
   ]
  },
  {
   "cell_type": "code",
   "execution_count": null,
   "metadata": {},
   "outputs": [],
   "source": [
    "period_of_interest = \"calibration\""
   ]
  },
  {
   "cell_type": "code",
   "execution_count": null,
   "metadata": {},
   "outputs": [],
   "source": [
    "results_obs = metrics.calc(\n",
    "    obs[variables_to_plot].sel(time=time_slice_dict[period_of_interest]),\n",
    "    compute=True,\n",
    ")"
   ]
  },
  {
   "cell_type": "code",
   "execution_count": null,
   "metadata": {},
   "outputs": [],
   "source": [
    "results_gcm = metrics.calc(\n",
    "    gcm[variables_to_plot].sel(time=time_slice_dict[period_of_interest]),\n",
    "    compute=True,\n",
    ")"
   ]
  },
  {
   "cell_type": "markdown",
   "metadata": {},
   "source": [
    "The goal of these analyses is to evaluate the effect of different steps in the\n",
    "modeling chain. By teasing out where bias is introduced or where the\n",
    "distribution gets distorted, we'll better understand our output met datasets.\n"
   ]
  },
  {
   "cell_type": "markdown",
   "metadata": {},
   "source": [
    "Future climate plotting - within each of the historical timeseries, what\n",
    "influence does a future climate have on each of the variables. Spatial plots\n"
   ]
  },
  {
   "cell_type": "markdown",
   "metadata": {},
   "source": [
    "Make a multivariable map plot with columns being (left) obs (center) gcm and\n",
    "(right) the difference. Rows are the different variables selected via\n",
    "`variables_to_plot`. We'll do this a few times to see how the bias-correction\n",
    "affects things.\n",
    "\n",
    "Things we'll be sure to include in our plotting functionality.\n",
    "\n",
    "- averaging time period\n",
    "- gcm/ensemble/historical\n",
    "- standardize colorbars for the obs/historical\n"
   ]
  },
  {
   "cell_type": "markdown",
   "metadata": {},
   "source": [
    "Some of the variables throw wierd numbers so for plotting we'll constrain them\n",
    "to a reasonable limit.\n"
   ]
  },
  {
   "cell_type": "code",
   "execution_count": null,
   "metadata": {},
   "outputs": [],
   "source": [
    "limits_dict = {\"pdsi\": {\"abs\": (-2, 2), \"diff\": (-0.5, 0.5)}}"
   ]
  },
  {
   "cell_type": "markdown",
   "metadata": {},
   "source": [
    "For our plotting we'll want to include a human-readable representation of\n",
    "whether or not the dataset was bias-corrected.\n"
   ]
  },
  {
   "cell_type": "code",
   "execution_count": null,
   "metadata": {},
   "outputs": [],
   "source": [
    "bias_correction_name_dict = {True: \"bias-corrected\", False: \"raw\"}"
   ]
  },
  {
   "cell_type": "markdown",
   "metadata": {},
   "source": [
    "First we'll check how different the bias-correction produces GCM variables that\n",
    "match Terraclimate. We'll check it across the calibration period first.\n"
   ]
  },
  {
   "cell_type": "code",
   "execution_count": null,
   "metadata": {},
   "outputs": [],
   "source": [
    "fig, axarr = plot.plot_time_mean(\n",
    "    results_obs[\"time_mean\"],\n",
    "    results_gcm[\"time_mean\"],\n",
    "    diff=True,\n",
    "    limits_dict=limits_dict,\n",
    "    figsize=(15, 20),\n",
    "    ds1_name=\"TerraClimate\",\n",
    "    ds2_name=\"{}-{}-{}\".format(\n",
    "        gcm_name,\n",
    "        gcm_ensemble_member,\n",
    "        bias_correction_name_dict[gcm_bias_corrected],\n",
    "    ),\n",
    "    title='Comparing met datasets for {} period ({}-{})\\naka \"how far are we off even after bias-correction\"'.format(\n",
    "        period_of_interest,\n",
    "        time_slice_dict[period_of_interest].start,\n",
    "        time_slice_dict[period_of_interest].stop,\n",
    "    ),\n",
    "    savefig=\"/home/jovyan/figures/timemean-{}-\"\n",
    "    \"TerraClimate-{}-{}.png\".format(\n",
    "        period_of_interest,\n",
    "        gcm_name,\n",
    "        bias_correction_name_dict[gcm_bias_corrected],\n",
    "    ),\n",
    ")"
   ]
  },
  {
   "cell_type": "markdown",
   "metadata": {},
   "source": [
    "Now let's check it for the other climate periods. To do this we'll have to\n",
    "reload the datasets with a different slice selected and recalculate the metrics.\n"
   ]
  },
  {
   "cell_type": "markdown",
   "metadata": {},
   "source": [
    "Then let's repeat the whole thing (all climate periods) but this time doing it\n",
    "thinking of ds1 as gcm-raw and ds2 being gcm-biascorrected\n"
   ]
  },
  {
   "cell_type": "markdown",
   "metadata": {},
   "source": [
    "Now let's also do some seasonal mean plotting. Maybe the hub will behave better\n",
    "for this one.\n"
   ]
  },
  {
   "cell_type": "code",
   "execution_count": null,
   "metadata": {},
   "outputs": [],
   "source": [
    "fig, axarr = plot_seasonal_mean(\n",
    "    results_obs[\"seasonal_mean\"].groupby(\"time.month\").mean(),\n",
    "    results_gcm[\"seasonal_mean\"].groupby(\"time.month\").mean(),\n",
    "    limits_dict=limits_dict,\n",
    ")"
   ]
  },
  {
   "cell_type": "markdown",
   "metadata": {},
   "source": [
    "Spatial autocorrelation analyses Things to think about:\n",
    "\n",
    "- what weighting scheme\n",
    "- how many spatiotemporal lags to have\n"
   ]
  },
  {
   "cell_type": "code",
   "execution_count": null,
   "metadata": {},
   "outputs": [],
   "source": [
    "import pysal\n",
    "from esda.moran import Moran\n",
    "\n",
    "mi = Moran(y, w)"
   ]
  }
 ],
 "metadata": {
  "kernelspec": {
   "display_name": "Python [conda env:notebook] *",
   "language": "python",
   "name": "conda-env-notebook-py"
  },
  "language_info": {
   "codemirror_mode": {
    "name": "ipython",
    "version": 3
   },
   "file_extension": ".py",
   "mimetype": "text/x-python",
   "name": "python",
   "nbconvert_exporter": "python",
   "pygments_lexer": "ipython3",
   "version": "3.7.9"
  }
 },
 "nbformat": 4,
 "nbformat_minor": 4
}
